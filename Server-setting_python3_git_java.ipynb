{
 "cells": [
  {
   "cell_type": "markdown",
   "metadata": {},
   "source": [
    "# 서버 설정하기\n",
    "\n",
    "- Google Cloud 이용  \n",
    "- VM 인스턴스 생성해서 서버 설정하기 등등 기록정리\n"
   ]
  },
  {
   "cell_type": "markdown",
   "metadata": {},
   "source": [
    "### 인스턴스 만들기\n",
    "이름(instance-project) 외 기본 설정  \n",
    "부팅디스크: CentOS 7  \n",
    "모든 Cloud API에 대한 전체 엑세스 허용  \n",
    "방화벽: HTTP/HTTPS 트래픽 허용(둘다 체크)"
   ]
  },
  {
   "cell_type": "markdown",
   "metadata": {},
   "source": [
    "### python 3.4 설치\n",
    "RTS 처리 이전에, 로컬에 데이터파일을 수집할 코드가 필요했음.  \n",
    "\n",
    "\n",
    "#### python 3.4 설치  \n",
    "`$ sudo yum install python34`  \n",
    "\n",
    "#### python 개발 패키지 설치\n",
    "`$ sudo yum install python34-devel`  \n",
    "`$ sudo yum install python34-setuptools`  \n",
    "  \n",
    "결과  \n",
    ">  [g5eo1ab@instance-project ~]$ python3 --version  \n",
    ">  Python 3.4.5  \n",
    "\n",
    "#### pip 설치\n",
    "`$ cd /usr/lib/python3.4/site-packages/`  \n",
    "`$ sudo python3 easy_install.py pip`  \n",
    "  \n",
    "결과  \n",
    "> ...  \n",
    "> Installed /usr/lib/python3.4/site-packages/pip-9.0.1-py3.4.egg  \n",
    "> Processing dependencies for pip  \n",
    "> Finished processing dependencies for pip  \n",
    "> [g5eo1ab@instance-project site-packages]$ pip3 --version  \n",
    "> pip 9.0.1 from /usr/lib/python3.4/site-packages/pip-9.0.1-py3.4.egg (python 3.4)\n",
    "\n"
   ]
  },
  {
   "cell_type": "markdown",
   "metadata": {},
   "source": [
    "### GIT 설치 & Clone\n",
    "\n",
    "#### git 설치\n",
    "`$ sudo yum install git`\n",
    "\n",
    "#### clone repository\n",
    "`$ git clone https://github.com/5eo1ab/trading-bot`  \n",
    "`$ cd trading-bot`\n",
    "\n",
    "결과  \n",
    "> [g5eo1ab@instance-project trading-bot]$ ls  \n",
    "> collect_public_ticker_ALL.py  xcoin-public_ticker_ALL_171017-230259.json  \n",
    "> README.md                     xcoin-public_ticker_ALL_171017-230337.json  \n",
    "> SampleCode_bithumb            xcoin-public_ticker_ALL_171017-230640.json  \n",
    "> XCoinAPI.py "
   ]
  },
  {
   "cell_type": "markdown",
   "metadata": {},
   "source": [
    "### JAVA 설치 & path 설정\n",
    "\n",
    "Logstash 사용할때 자바설치하고, JAVA_HOME 환경변수에 추가해야함.  \n",
    "\n",
    "#### JAVA 설치\n",
    "\n",
    "`$ sudo yum install java`\n",
    "\n",
    "#### JAVA 설치 경로 찾기\n",
    "`$ which java`  \n",
    "`$ ls -al [경로]`  \n",
    "  \n",
    "java 설치 경로를 반환한다. 근데 이거 fake.  \n",
    "반환하는 주소의 절대 경로 찾아서 가야함(반복)\n",
    "  \n",
    "#### 환경변수에 추가\n",
    "`$ cd ~`  \n",
    "`$ vi .bash_profile`   \n",
    "\n",
    "아래와 같이 한줄 추가(복붙 아니라, 위에서 찾은 경로)  \n",
    "  \n",
    "> PATH=$PATH:/usr/lib/jvm/java-1.8.0-openjdk-1.8.0.144-0.b01.el7_4.x86_64/jre/bin/java # JAVA_HOME  \n",
    "\n",
    "#### 설정 활성화\n",
    "`$ source .bash_profile`\n"
   ]
  }
 ],
 "metadata": {
  "anaconda-cloud": {},
  "kernelspec": {
   "display_name": "Python [Root]",
   "language": "python",
   "name": "Python [Root]"
  },
  "language_info": {
   "codemirror_mode": {
    "name": "ipython",
    "version": 3
   },
   "file_extension": ".py",
   "mimetype": "text/x-python",
   "name": "python",
   "nbconvert_exporter": "python",
   "pygments_lexer": "ipython3",
   "version": "3.5.3"
  }
 },
 "nbformat": 4,
 "nbformat_minor": 0
}
